{
 "cells": [
  {
   "cell_type": "markdown",
   "source": [
    "# Parsing QuPath Project file: Black Marble"
   ],
   "metadata": {
    "collapsed": false
   },
   "id": "4cf9262f568ae930"
  },
  {
   "cell_type": "code",
   "execution_count": 1,
   "outputs": [],
   "source": [
    "# Reflect changes in the modules immediately.\n",
    "%load_ext autoreload\n",
    "%autoreload 2"
   ],
   "metadata": {
    "collapsed": false,
    "ExecuteTime": {
     "end_time": "2023-08-18T15:56:06.247868200Z",
     "start_time": "2023-08-18T15:56:06.193525300Z"
    }
   },
   "id": "cf5025a1d00026f0"
  },
  {
   "cell_type": "code",
   "execution_count": 2,
   "outputs": [],
   "source": [
    "from src.qugeococo import QuGeoCOCO"
   ],
   "metadata": {
    "collapsed": false,
    "ExecuteTime": {
     "end_time": "2023-08-18T15:56:06.311930900Z",
     "start_time": "2023-08-18T15:56:06.249901200Z"
    }
   },
   "id": "d7b00a337850e59f"
  },
  {
   "cell_type": "code",
   "execution_count": 3,
   "outputs": [],
   "source": [
    "experiment_name = f\"QuGeoCOCO_Black_Marble\"\n",
    "\n",
    "qupath_project_train_path = r\"C:\\Users\\ibrah\\Desktop\\marble_gen\\QuPath_Marbles\\QuPath_Marbles_Black_Train\\project.qpproj\"\n",
    "qupath_project_valid_path = r\"C:\\Users\\ibrah\\Desktop\\marble_gen\\QuPath_Marbles\\QuPath_Marbles_Black_Valid\\project.qpproj\"\n",
    "\n",
    "geojson_train_folder_path = r\"C:\\Users\\ibrah\\Desktop\\QuPath_CLI\\QuPath_CLI\\Examples\\Marbles\\Black_Marbles\\target_dir_train\"\n",
    "geojson_valid_folder_path = r\"C:\\Users\\ibrah\\Desktop\\QuPath_CLI\\QuPath_CLI\\Examples\\Marbles\\Black_Marbles\\target_dir_valid\"\n",
    "\n",
    "qugeococo_categories = [\"black_marble\"]\n"
   ],
   "metadata": {
    "collapsed": false,
    "ExecuteTime": {
     "end_time": "2023-08-18T15:56:06.354716Z",
     "start_time": "2023-08-18T15:56:06.312926Z"
    }
   },
   "id": "5e178230ee26890e"
  },
  {
   "cell_type": "code",
   "execution_count": 4,
   "outputs": [
    {
     "name": "stdout",
     "output_type": "stream",
     "text": [
      "2023-08-18 11:56:06 |\u001B[32m INFO     \u001B[0m| src.qupath_handler | Loading the project file...\n",
      "2023-08-18 11:56:06 |\u001B[32m INFO     \u001B[0m| src.qupath_handler | Loading images...\n",
      "2023-08-18 11:56:06 |\u001B[32m INFO     \u001B[0m| src.qupath_handler | Project has 10 images.\n",
      "2023-08-18 11:56:06 |\u001B[32m INFO     \u001B[0m| src.geojson_handler | Found 10 geojson file(s) in C:\\Users\\ibrah\\Desktop\\QuPath_CLI\\QuPath_CLI\\Examples\\Marbles\\Black_Marbles\\target_dir_train\n",
      "2023-08-18 11:56:06 |\u001B[32m INFO     \u001B[0m| src.geojson_handler | Class id mapping: {'black_marble': 1}\n",
      "2023-08-18 11:56:06 |\u001B[32m INFO     \u001B[0m| src.geojson_handler | Unique classes: [1]\n",
      "2023-08-18 11:56:06 |\u001B[36m DEBUG    \u001B[0m| src.qugeococo | Added category: black_marble (id: 1)\n",
      "2023-08-18 11:56:06 |\u001B[36m DEBUG    \u001B[0m| src.qugeococo | Processing output_image_0.geojson...\n",
      "2023-08-18 11:56:06 |\u001B[36m DEBUG    \u001B[0m| src.qugeococo | Processing output_image_1.geojson...\n",
      "2023-08-18 11:56:06 |\u001B[36m DEBUG    \u001B[0m| src.qugeococo | Processing output_image_2.geojson...\n",
      "2023-08-18 11:56:06 |\u001B[36m DEBUG    \u001B[0m| src.qugeococo | Processing output_image_3.geojson...\n",
      "2023-08-18 11:56:06 |\u001B[36m DEBUG    \u001B[0m| src.qugeococo | Processing output_image_4.geojson...\n",
      "2023-08-18 11:56:06 |\u001B[36m DEBUG    \u001B[0m| src.qugeococo | Processing output_image_5.geojson...\n",
      "2023-08-18 11:56:06 |\u001B[36m DEBUG    \u001B[0m| src.qugeococo | Processing output_image_6.geojson...\n",
      "2023-08-18 11:56:06 |\u001B[36m DEBUG    \u001B[0m| src.qugeococo | Processing output_image_7.geojson...\n",
      "2023-08-18 11:56:06 |\u001B[36m DEBUG    \u001B[0m| src.qugeococo | Processing output_image_8.geojson...\n",
      "2023-08-18 11:56:06 |\u001B[36m DEBUG    \u001B[0m| src.qugeococo | Processing output_image_9.geojson...\n",
      "2023-08-18 11:56:06 |\u001B[32m INFO     \u001B[0m| src.helpers | Exported to QuGeoCOCO_Black_Marble_Train.json\n"
     ]
    }
   ],
   "source": [
    "qugeococo_train = QuGeoCOCO(\n",
    "    qupath_project_file_path=qupath_project_train_path,\n",
    "    geojson_folder_path=geojson_train_folder_path,\n",
    "    qugeococo_categories=qugeococo_categories,\n",
    ")\n",
    "qugeococo_train.save(f\"{experiment_name}_Train.json\")"
   ],
   "metadata": {
    "collapsed": false,
    "ExecuteTime": {
     "end_time": "2023-08-18T15:56:06.637008700Z",
     "start_time": "2023-08-18T15:56:06.359257700Z"
    }
   },
   "id": "59472e88ba6dea20"
  },
  {
   "cell_type": "code",
   "execution_count": 5,
   "outputs": [
    {
     "name": "stdout",
     "output_type": "stream",
     "text": [
      "2023-08-18 11:56:06 |\u001B[32m INFO     \u001B[0m| src.qupath_handler | Loading the project file...\n",
      "2023-08-18 11:56:06 |\u001B[32m INFO     \u001B[0m| src.qupath_handler | Loading images...\n",
      "2023-08-18 11:56:06 |\u001B[32m INFO     \u001B[0m| src.qupath_handler | Project has 5 images.\n",
      "2023-08-18 11:56:06 |\u001B[32m INFO     \u001B[0m| src.geojson_handler | Found 5 geojson file(s) in C:\\Users\\ibrah\\Desktop\\QuPath_CLI\\QuPath_CLI\\Examples\\Marbles\\Black_Marbles\\target_dir_valid\n",
      "2023-08-18 11:56:06 |\u001B[32m INFO     \u001B[0m| src.geojson_handler | Class id mapping: {'black_marble': 1}\n",
      "2023-08-18 11:56:06 |\u001B[32m INFO     \u001B[0m| src.geojson_handler | Unique classes: [1]\n",
      "2023-08-18 11:56:06 |\u001B[36m DEBUG    \u001B[0m| src.qugeococo | Added category: black_marble (id: 1)\n",
      "2023-08-18 11:56:06 |\u001B[36m DEBUG    \u001B[0m| src.qugeococo | Processing output_image_0.geojson...\n",
      "2023-08-18 11:56:06 |\u001B[36m DEBUG    \u001B[0m| src.qugeococo | Processing output_image_1.geojson...\n",
      "2023-08-18 11:56:06 |\u001B[36m DEBUG    \u001B[0m| src.qugeococo | Processing output_image_2.geojson...\n",
      "2023-08-18 11:56:06 |\u001B[36m DEBUG    \u001B[0m| src.qugeococo | Processing output_image_3.geojson...\n",
      "2023-08-18 11:56:06 |\u001B[36m DEBUG    \u001B[0m| src.qugeococo | Processing output_image_4.geojson...\n",
      "2023-08-18 11:56:06 |\u001B[32m INFO     \u001B[0m| src.helpers | Exported to QuGeoCOCO_Black_Marble_Valid.json\n"
     ]
    }
   ],
   "source": [
    "qugeococo_valid = QuGeoCOCO(\n",
    "    qupath_project_file_path=qupath_project_valid_path,\n",
    "    geojson_folder_path=geojson_valid_folder_path,\n",
    "    qugeococo_categories=qugeococo_categories,\n",
    ")\n",
    "qugeococo_valid.save(f\"{experiment_name}_Valid.json\")"
   ],
   "metadata": {
    "collapsed": false,
    "ExecuteTime": {
     "end_time": "2023-08-18T15:56:06.870043Z",
     "start_time": "2023-08-18T15:56:06.641973300Z"
    }
   },
   "id": "57004d2b24c31c31"
  },
  {
   "cell_type": "code",
   "execution_count": 6,
   "outputs": [
    {
     "name": "stdout",
     "output_type": "stream",
     "text": [
      "DONE\n"
     ]
    }
   ],
   "source": [
    "print(\"DONE\")"
   ],
   "metadata": {
    "collapsed": false,
    "ExecuteTime": {
     "end_time": "2023-08-18T15:56:06.920378Z",
     "start_time": "2023-08-18T15:56:06.861532300Z"
    }
   },
   "id": "12b546efd8470306"
  },
  {
   "cell_type": "code",
   "execution_count": 6,
   "outputs": [],
   "source": [],
   "metadata": {
    "collapsed": false,
    "ExecuteTime": {
     "end_time": "2023-08-18T15:56:06.935467300Z",
     "start_time": "2023-08-18T15:56:06.922372100Z"
    }
   },
   "id": "92f3e4d6a40e4231"
  }
 ],
 "metadata": {
  "kernelspec": {
   "display_name": "Python 3",
   "language": "python",
   "name": "python3"
  },
  "language_info": {
   "codemirror_mode": {
    "name": "ipython",
    "version": 2
   },
   "file_extension": ".py",
   "mimetype": "text/x-python",
   "name": "python",
   "nbconvert_exporter": "python",
   "pygments_lexer": "ipython2",
   "version": "2.7.6"
  }
 },
 "nbformat": 4,
 "nbformat_minor": 5
}
