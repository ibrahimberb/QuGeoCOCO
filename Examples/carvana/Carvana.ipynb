{
 "cells": [
  {
   "cell_type": "markdown",
   "metadata": {},
   "source": [
    "# Parsing QuPath Project file: Carvana"
   ]
  },
  {
   "cell_type": "code",
   "execution_count": 1,
   "metadata": {
    "ExecuteTime": {
     "end_time": "2023-08-17T20:07:45.739642Z",
     "start_time": "2023-08-17T20:07:45.683017400Z"
    }
   },
   "outputs": [],
   "source": [
    "# Reflect changes in the modules immediately.\n",
    "%load_ext autoreload\n",
    "%autoreload 2"
   ]
  },
  {
   "cell_type": "code",
   "execution_count": 2,
   "outputs": [],
   "source": [
    "from src.qugeococo import QuGeoCOCO"
   ],
   "metadata": {
    "collapsed": false,
    "ExecuteTime": {
     "end_time": "2023-08-17T20:07:46.521609700Z",
     "start_time": "2023-08-17T20:07:46.175050700Z"
    }
   }
  },
  {
   "cell_type": "code",
   "execution_count": 3,
   "outputs": [],
   "source": [
    "qupath_project_train_path = r\"C:\\Users\\ibrah\\Desktop\\Carvana_Image_Masking\\qupath\\qupath_train\\project.qpproj\"\n",
    "qupath_project_valid_path = r\"C:\\Users\\ibrah\\Desktop\\Carvana_Image_Masking\\qupath\\qupath_valid\\project.qpproj\"\n",
    "\n",
    "geojson_train_folder_path = \"./carvana/target_dir_train\"\n",
    "geojson_valid_folder_path = \"./carvana/target_dir_valid\"\n",
    "\n",
    "qugeocos_categories = [\"CAR\"]\n"
   ],
   "metadata": {
    "collapsed": false,
    "ExecuteTime": {
     "end_time": "2023-08-17T20:07:47.907032900Z",
     "start_time": "2023-08-17T20:07:47.854343700Z"
    }
   }
  },
  {
   "cell_type": "code",
   "execution_count": 4,
   "outputs": [
    {
     "name": "stdout",
     "output_type": "stream",
     "text": [
      "2023-08-17 16:07:48 |\u001B[32m INFO     \u001B[0m| src.qupath_handler | Loading the project file...\n",
      "2023-08-17 16:07:48 |\u001B[32m INFO     \u001B[0m| src.qupath_handler | Loading images...\n",
      "2023-08-17 16:07:48 |\u001B[32m INFO     \u001B[0m| src.qupath_handler | Project has 30 images.\n",
      "2023-08-17 16:07:48 |\u001B[32m INFO     \u001B[0m| src.geojson_handler | Found 30 geojson file(s) in ./carvana/target_dir_train\n",
      "2023-08-17 16:07:48 |\u001B[36m DEBUG    \u001B[0m| src.qugeococo | Added category: CAR (id: 1)\n",
      "2023-08-17 16:07:48 |\u001B[36m DEBUG    \u001B[0m| src.qugeococo | Processing 04bd942b463b_05.geojson...\n",
      "2023-08-17 16:07:48 |\u001B[36m DEBUG    \u001B[0m| src.qugeococo | Processing 0cdf5b5d0ce1_05.geojson...\n",
      "2023-08-17 16:07:48 |\u001B[36m DEBUG    \u001B[0m| src.qugeococo | Processing 1b25ea8ba94d_05.geojson...\n",
      "2023-08-17 16:07:48 |\u001B[36m DEBUG    \u001B[0m| src.qugeococo | Processing 292f59c6a347_05.geojson...\n",
      "2023-08-17 16:07:48 |\u001B[36m DEBUG    \u001B[0m| src.qugeococo | Processing 2cb91c2543fa_05.geojson...\n",
      "2023-08-17 16:07:48 |\u001B[36m DEBUG    \u001B[0m| src.qugeococo | Processing 32edfb7723ff_05.geojson...\n",
      "2023-08-17 16:07:48 |\u001B[36m DEBUG    \u001B[0m| src.qugeococo | Processing 351c583eabd6_05.geojson...\n",
      "2023-08-17 16:07:48 |\u001B[36m DEBUG    \u001B[0m| src.qugeococo | Processing 4f1f065d78ac_05.geojson...\n",
      "2023-08-17 16:07:48 |\u001B[36m DEBUG    \u001B[0m| src.qugeococo | Processing 5d95d80e10a9_05.geojson...\n",
      "2023-08-17 16:07:48 |\u001B[36m DEBUG    \u001B[0m| src.qugeococo | Processing 64f701f36437_05.geojson...\n",
      "2023-08-17 16:07:49 |\u001B[36m DEBUG    \u001B[0m| src.qugeococo | Processing 6cc98271f4dd_05.geojson...\n",
      "2023-08-17 16:07:49 |\u001B[36m DEBUG    \u001B[0m| src.qugeococo | Processing 6e016b8b3617_05.geojson...\n",
      "2023-08-17 16:07:49 |\u001B[36m DEBUG    \u001B[0m| src.qugeococo | Processing 717689f3e788_05.geojson...\n",
      "2023-08-17 16:07:49 |\u001B[36m DEBUG    \u001B[0m| src.qugeococo | Processing 78f63d808555_05.geojson...\n",
      "2023-08-17 16:07:49 |\u001B[36m DEBUG    \u001B[0m| src.qugeococo | Processing 7ac210ba75a1_05.geojson...\n",
      "2023-08-17 16:07:49 |\u001B[36m DEBUG    \u001B[0m| src.qugeococo | Processing 7fbc761387f3_05.geojson...\n",
      "2023-08-17 16:07:49 |\u001B[36m DEBUG    \u001B[0m| src.qugeococo | Processing 86c10c8c6206_05.geojson...\n",
      "2023-08-17 16:07:49 |\u001B[36m DEBUG    \u001B[0m| src.qugeococo | Processing 9274d0b3caa8_05.geojson...\n",
      "2023-08-17 16:07:49 |\u001B[36m DEBUG    \u001B[0m| src.qugeococo | Processing 93881caf9f70_05.geojson...\n",
      "2023-08-17 16:07:49 |\u001B[36m DEBUG    \u001B[0m| src.qugeococo | Processing 9cc257b449d0_05.geojson...\n",
      "2023-08-17 16:07:49 |\u001B[36m DEBUG    \u001B[0m| src.qugeococo | Processing a7b9e343cf6b_05.geojson...\n",
      "2023-08-17 16:07:49 |\u001B[36m DEBUG    \u001B[0m| src.qugeococo | Processing b1a27da4f01c_05.geojson...\n",
      "2023-08-17 16:07:49 |\u001B[36m DEBUG    \u001B[0m| src.qugeococo | Processing ba7e7421003b_05.geojson...\n",
      "2023-08-17 16:07:49 |\u001B[36m DEBUG    \u001B[0m| src.qugeococo | Processing c6f50d44f141_05.geojson...\n",
      "2023-08-17 16:07:49 |\u001B[36m DEBUG    \u001B[0m| src.qugeococo | Processing df642435a951_05.geojson...\n",
      "2023-08-17 16:07:49 |\u001B[36m DEBUG    \u001B[0m| src.qugeococo | Processing e2230d0ceb02_05.geojson...\n",
      "2023-08-17 16:07:49 |\u001B[36m DEBUG    \u001B[0m| src.qugeococo | Processing e6892bf10d31_05.geojson...\n",
      "2023-08-17 16:07:49 |\u001B[36m DEBUG    \u001B[0m| src.qugeococo | Processing ef5567efd904_05.geojson...\n",
      "2023-08-17 16:07:49 |\u001B[36m DEBUG    \u001B[0m| src.qugeococo | Processing efaef69e148d_05.geojson...\n",
      "2023-08-17 16:07:49 |\u001B[36m DEBUG    \u001B[0m| src.qugeococo | Processing f98dbe8a5ee2_05.geojson...\n",
      "2023-08-17 16:07:49 |\u001B[32m INFO     \u001B[0m| src.helpers | Exported to Carvana_Train.json\n"
     ]
    }
   ],
   "source": [
    "qugeocos_train = QuGeoCOCO(\n",
    "    qupath_project_file_path=qupath_project_train_path,\n",
    "    geojson_folder_path=geojson_train_folder_path,\n",
    "    qugeococo_categories=qugeocos_categories,\n",
    ")\n",
    "qugeocos_train.save(\"Carvana_Train.json\")"
   ],
   "metadata": {
    "collapsed": false,
    "ExecuteTime": {
     "end_time": "2023-08-17T20:07:49.341546900Z",
     "start_time": "2023-08-17T20:07:48.845461500Z"
    }
   }
  },
  {
   "cell_type": "markdown",
   "source": [],
   "metadata": {
    "collapsed": false
   }
  },
  {
   "cell_type": "code",
   "execution_count": 5,
   "outputs": [
    {
     "name": "stdout",
     "output_type": "stream",
     "text": [
      "2023-08-17 16:07:55 |\u001B[32m INFO     \u001B[0m| src.qupath_handler | Loading the project file...\n",
      "2023-08-17 16:07:55 |\u001B[32m INFO     \u001B[0m| src.qupath_handler | Loading images...\n",
      "2023-08-17 16:07:55 |\u001B[32m INFO     \u001B[0m| src.qupath_handler | Project has 10 images.\n",
      "2023-08-17 16:07:55 |\u001B[32m INFO     \u001B[0m| src.geojson_handler | Found 10 geojson file(s) in ./carvana/target_dir_valid\n",
      "2023-08-17 16:07:55 |\u001B[36m DEBUG    \u001B[0m| src.qugeococo | Added category: CAR (id: 1)\n",
      "2023-08-17 16:07:55 |\u001B[36m DEBUG    \u001B[0m| src.qugeococo | Processing 34b0c08544a5_05.geojson...\n",
      "2023-08-17 16:07:55 |\u001B[36m DEBUG    \u001B[0m| src.qugeococo | Processing 3f3e362dea23_05.geojson...\n",
      "2023-08-17 16:07:55 |\u001B[36m DEBUG    \u001B[0m| src.qugeococo | Processing 42d81612e2ce_05.geojson...\n",
      "2023-08-17 16:07:55 |\u001B[36m DEBUG    \u001B[0m| src.qugeococo | Processing 4df1536de792_05.geojson...\n",
      "2023-08-17 16:07:55 |\u001B[36m DEBUG    \u001B[0m| src.qugeococo | Processing 51f1cdf5f539_05.geojson...\n",
      "2023-08-17 16:07:55 |\u001B[36m DEBUG    \u001B[0m| src.qugeococo | Processing 85bc655a7523_05.geojson...\n",
      "2023-08-17 16:07:55 |\u001B[36m DEBUG    \u001B[0m| src.qugeococo | Processing bf9a32258ef4_05.geojson...\n",
      "2023-08-17 16:07:55 |\u001B[36m DEBUG    \u001B[0m| src.qugeococo | Processing c353e364e931_05.geojson...\n",
      "2023-08-17 16:07:55 |\u001B[36m DEBUG    \u001B[0m| src.qugeococo | Processing cafee4122080_05.geojson...\n",
      "2023-08-17 16:07:55 |\u001B[36m DEBUG    \u001B[0m| src.qugeococo | Processing d61b6bfeabb2_05.geojson...\n",
      "2023-08-17 16:07:55 |\u001B[32m INFO     \u001B[0m| src.helpers | Exported to Carvana_Valid.json\n"
     ]
    }
   ],
   "source": [
    "qugeocos_valid = QuGeoCOCO(\n",
    "    qupath_project_file_path=qupath_project_valid_path,\n",
    "    geojson_folder_path=geojson_valid_folder_path,\n",
    "    qugeococo_categories=qugeocos_categories,\n",
    ")\n",
    "qugeocos_valid.save(\"Carvana_Valid.json\")"
   ],
   "metadata": {
    "collapsed": false,
    "ExecuteTime": {
     "end_time": "2023-08-17T20:07:55.692804800Z",
     "start_time": "2023-08-17T20:07:55.460630300Z"
    }
   }
  },
  {
   "cell_type": "code",
   "execution_count": 6,
   "outputs": [
    {
     "name": "stdout",
     "output_type": "stream",
     "text": [
      "DONE\n"
     ]
    }
   ],
   "source": [
    "print(\"DONE\")"
   ],
   "metadata": {
    "collapsed": false,
    "ExecuteTime": {
     "end_time": "2023-08-17T20:08:02.369895600Z",
     "start_time": "2023-08-17T20:08:02.320673800Z"
    }
   }
  },
  {
   "cell_type": "code",
   "execution_count": null,
   "outputs": [],
   "source": [],
   "metadata": {
    "collapsed": false
   }
  }
 ],
 "metadata": {
  "kernelspec": {
   "display_name": "CaseTA",
   "language": "python",
   "name": "python3"
  },
  "language_info": {
   "codemirror_mode": {
    "name": "ipython",
    "version": 3
   },
   "file_extension": ".py",
   "mimetype": "text/x-python",
   "name": "python",
   "nbconvert_exporter": "python",
   "pygments_lexer": "ipython3",
   "version": "3.8.17"
  },
  "orig_nbformat": 4
 },
 "nbformat": 4,
 "nbformat_minor": 2
}
